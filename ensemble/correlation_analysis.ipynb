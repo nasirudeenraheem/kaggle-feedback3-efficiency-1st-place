{
 "cells": [
  {
   "cell_type": "code",
   "execution_count": 20,
   "metadata": {},
   "outputs": [],
   "source": [
    "import pandas as pd\n",
    "import os\n",
    "import numpy as np"
   ]
  },
  {
   "cell_type": "code",
   "execution_count": 21,
   "metadata": {},
   "outputs": [
    {
     "data": {
      "text/plain": [
       "39"
      ]
     },
     "execution_count": 21,
     "metadata": {},
     "output_type": "execute_result"
    }
   ],
   "source": [
    "files = [file for file in os.listdir(\"./\") if file.startswith(\"exp\")]\n",
    "len(files)"
   ]
  },
  {
   "cell_type": "code",
   "execution_count": 22,
   "metadata": {},
   "outputs": [],
   "source": [
    "columns = ['cohesion','syntax','vocabulary','phraseology','grammar','conventions']"
   ]
  },
  {
   "cell_type": "code",
   "execution_count": 40,
   "metadata": {},
   "outputs": [
    {
     "data": {
      "text/html": [
       "<div>\n",
       "<style scoped>\n",
       "    .dataframe tbody tr th:only-of-type {\n",
       "        vertical-align: middle;\n",
       "    }\n",
       "\n",
       "    .dataframe tbody tr th {\n",
       "        vertical-align: top;\n",
       "    }\n",
       "\n",
       "    .dataframe thead th {\n",
       "        text-align: right;\n",
       "    }\n",
       "</style>\n",
       "<table border=\"1\" class=\"dataframe\">\n",
       "  <thead>\n",
       "    <tr style=\"text-align: right;\">\n",
       "      <th></th>\n",
       "      <th>cohesion</th>\n",
       "      <th>syntax</th>\n",
       "      <th>vocabulary</th>\n",
       "      <th>phraseology</th>\n",
       "      <th>grammar</th>\n",
       "      <th>conventions</th>\n",
       "    </tr>\n",
       "  </thead>\n",
       "  <tbody>\n",
       "    <tr>\n",
       "      <th>cohesion</th>\n",
       "      <td>1.000000</td>\n",
       "      <td>0.967692</td>\n",
       "      <td>0.947052</td>\n",
       "      <td>0.931423</td>\n",
       "      <td>0.851216</td>\n",
       "      <td>0.910502</td>\n",
       "    </tr>\n",
       "    <tr>\n",
       "      <th>syntax</th>\n",
       "      <td>0.967692</td>\n",
       "      <td>1.000000</td>\n",
       "      <td>0.959125</td>\n",
       "      <td>0.967445</td>\n",
       "      <td>0.928987</td>\n",
       "      <td>0.934806</td>\n",
       "    </tr>\n",
       "    <tr>\n",
       "      <th>vocabulary</th>\n",
       "      <td>0.947052</td>\n",
       "      <td>0.959125</td>\n",
       "      <td>1.000000</td>\n",
       "      <td>0.973373</td>\n",
       "      <td>0.897719</td>\n",
       "      <td>0.911769</td>\n",
       "    </tr>\n",
       "    <tr>\n",
       "      <th>phraseology</th>\n",
       "      <td>0.931423</td>\n",
       "      <td>0.967445</td>\n",
       "      <td>0.973373</td>\n",
       "      <td>1.000000</td>\n",
       "      <td>0.952673</td>\n",
       "      <td>0.890337</td>\n",
       "    </tr>\n",
       "    <tr>\n",
       "      <th>grammar</th>\n",
       "      <td>0.851216</td>\n",
       "      <td>0.928987</td>\n",
       "      <td>0.897719</td>\n",
       "      <td>0.952673</td>\n",
       "      <td>1.000000</td>\n",
       "      <td>0.866852</td>\n",
       "    </tr>\n",
       "    <tr>\n",
       "      <th>conventions</th>\n",
       "      <td>0.910502</td>\n",
       "      <td>0.934806</td>\n",
       "      <td>0.911769</td>\n",
       "      <td>0.890337</td>\n",
       "      <td>0.866852</td>\n",
       "      <td>1.000000</td>\n",
       "    </tr>\n",
       "  </tbody>\n",
       "</table>\n",
       "</div>"
      ],
      "text/plain": [
       "             cohesion    syntax  vocabulary  phraseology   grammar  \\\n",
       "cohesion     1.000000  0.967692    0.947052     0.931423  0.851216   \n",
       "syntax       0.967692  1.000000    0.959125     0.967445  0.928987   \n",
       "vocabulary   0.947052  0.959125    1.000000     0.973373  0.897719   \n",
       "phraseology  0.931423  0.967445    0.973373     1.000000  0.952673   \n",
       "grammar      0.851216  0.928987    0.897719     0.952673  1.000000   \n",
       "conventions  0.910502  0.934806    0.911769     0.890337  0.866852   \n",
       "\n",
       "             conventions  \n",
       "cohesion        0.910502  \n",
       "syntax          0.934806  \n",
       "vocabulary      0.911769  \n",
       "phraseology     0.890337  \n",
       "grammar         0.866852  \n",
       "conventions     1.000000  "
      ]
     },
     "execution_count": 40,
     "metadata": {},
     "output_type": "execute_result"
    }
   ],
   "source": [
    "min_ = []\n",
    "max_ = []\n",
    "for file in files:\n",
    "    if 'exp008' in file:\n",
    "        df = pd.read_csv(file)\n",
    "df[columns].corr()"
   ]
  },
  {
   "cell_type": "code",
   "execution_count": 33,
   "metadata": {},
   "outputs": [
    {
     "name": "stdout",
     "output_type": "stream",
     "text": [
      "0.8514555486580538 0.9727905657237589\n",
      "0.8548915115208646 0.9744094768286642\n",
      "0.8345819875210482 0.9674241000774082\n",
      "0.8529477288684968 0.9731815637503657\n",
      "0.8450459311833923 0.9705730410458895\n",
      "0.8680868894796354 0.9789398282459999\n",
      "0.8512162442646903 0.9733730108537002\n",
      "0.8751191613384058 0.9702392949812843\n",
      "0.855234805972392 0.9775896542513512\n",
      "0.9077118760858953 0.986548094745233\n",
      "0.8697965290469761 0.9795496071002798\n",
      "0.8698252104465735 0.979950862380372\n",
      "0.9059587738086858 0.985975765318744\n",
      "0.8584160590069889 0.9777215129770052\n",
      "0.8577926022434648 0.9789186089781929\n",
      "0.8945192608514211 0.9885039795893275\n",
      "0.8559716411226723 0.9808994605425523\n",
      "0.8598544449797735 0.982803817532153\n",
      "0.8979701763540889 0.9833037907398663\n",
      "0.8891079556845704 0.9862660778043985\n",
      "0.86769075089601 0.9708200576803272\n",
      "0.8760874107015508 0.9691880955681056\n",
      "0.876581489022144 0.9725721695050469\n",
      "0.872096197987868 0.9699716574028718\n",
      "0.8835711738441535 0.9780085295137917\n",
      "0.8717357769839734 0.9736554412782815\n",
      "0.8673613378656364 0.9758144730296539\n",
      "0.8565357800719651 0.9741539615866099\n",
      "0.8568595971709275 0.9802788870826296\n",
      "0.8556231822612524 0.9809526963591958\n",
      "0.8609663887928525 0.9715282819865383\n",
      "0.8558648626333973 0.9782852372905031\n",
      "0.8516294064884585 0.9715029430887313\n",
      "0.8312031003038196 0.9674837964807182\n",
      "0.7711699517053574 0.9583448210505005\n",
      "0.8192418041718226 0.9422448507087412\n",
      "0.7881906257735782 0.9602094301984067\n",
      "0.8264290892843474 0.9454326442361801\n",
      "0.8214268157767274 0.9656039876282208\n"
     ]
    }
   ],
   "source": [
    "min_ = []\n",
    "max_ = []\n",
    "for file in files:\n",
    "    df = pd.read_csv(file)\n",
    "    val = np.min(df[columns].corr().values)\n",
    "    val1 = df[columns].corr().values.flatten()\n",
    "    val1 = np.max([value for value in val1 if value != 1])\n",
    "    min_.append(val)\n",
    "    max_.append(val1)\n",
    "    print(val, val1)"
   ]
  },
  {
   "cell_type": "code",
   "execution_count": 34,
   "metadata": {},
   "outputs": [
    {
     "data": {
      "text/plain": [
       "(0.7711699517053574,\n",
       " 0.9077118760858953,\n",
       " 0.9422448507087412,\n",
       " 0.9885039795893275)"
      ]
     },
     "execution_count": 34,
     "metadata": {},
     "output_type": "execute_result"
    }
   ],
   "source": [
    "min(min_), max(min_), min(max_), max(max_)"
   ]
  },
  {
   "cell_type": "code",
   "execution_count": 35,
   "metadata": {},
   "outputs": [
    {
     "data": {
      "text/plain": [
       "0.027327576272458545"
      ]
     },
     "execution_count": 35,
     "metadata": {},
     "output_type": "execute_result"
    }
   ],
   "source": [
    "np.std(min_)"
   ]
  },
  {
   "cell_type": "code",
   "execution_count": 36,
   "metadata": {},
   "outputs": [
    {
     "data": {
      "text/html": [
       "<div>\n",
       "<style scoped>\n",
       "    .dataframe tbody tr th:only-of-type {\n",
       "        vertical-align: middle;\n",
       "    }\n",
       "\n",
       "    .dataframe tbody tr th {\n",
       "        vertical-align: top;\n",
       "    }\n",
       "\n",
       "    .dataframe thead th {\n",
       "        text-align: right;\n",
       "    }\n",
       "</style>\n",
       "<table border=\"1\" class=\"dataframe\">\n",
       "  <thead>\n",
       "    <tr style=\"text-align: right;\">\n",
       "      <th></th>\n",
       "      <th>cohesion</th>\n",
       "      <th>syntax</th>\n",
       "      <th>vocabulary</th>\n",
       "      <th>phraseology</th>\n",
       "      <th>grammar</th>\n",
       "      <th>conventions</th>\n",
       "    </tr>\n",
       "  </thead>\n",
       "  <tbody>\n",
       "    <tr>\n",
       "      <th>cohesion</th>\n",
       "      <td>1.000000</td>\n",
       "      <td>0.695459</td>\n",
       "      <td>0.666151</td>\n",
       "      <td>0.690058</td>\n",
       "      <td>0.638689</td>\n",
       "      <td>0.666151</td>\n",
       "    </tr>\n",
       "    <tr>\n",
       "      <th>syntax</th>\n",
       "      <td>0.695459</td>\n",
       "      <td>1.000000</td>\n",
       "      <td>0.680562</td>\n",
       "      <td>0.725467</td>\n",
       "      <td>0.709525</td>\n",
       "      <td>0.700025</td>\n",
       "    </tr>\n",
       "    <tr>\n",
       "      <th>vocabulary</th>\n",
       "      <td>0.666151</td>\n",
       "      <td>0.680562</td>\n",
       "      <td>1.000000</td>\n",
       "      <td>0.735261</td>\n",
       "      <td>0.654852</td>\n",
       "      <td>0.664292</td>\n",
       "    </tr>\n",
       "    <tr>\n",
       "      <th>phraseology</th>\n",
       "      <td>0.690058</td>\n",
       "      <td>0.725467</td>\n",
       "      <td>0.735261</td>\n",
       "      <td>1.000000</td>\n",
       "      <td>0.719746</td>\n",
       "      <td>0.666842</td>\n",
       "    </tr>\n",
       "    <tr>\n",
       "      <th>grammar</th>\n",
       "      <td>0.638689</td>\n",
       "      <td>0.709525</td>\n",
       "      <td>0.654852</td>\n",
       "      <td>0.719746</td>\n",
       "      <td>1.000000</td>\n",
       "      <td>0.673301</td>\n",
       "    </tr>\n",
       "    <tr>\n",
       "      <th>conventions</th>\n",
       "      <td>0.666151</td>\n",
       "      <td>0.700025</td>\n",
       "      <td>0.664292</td>\n",
       "      <td>0.666842</td>\n",
       "      <td>0.673301</td>\n",
       "      <td>1.000000</td>\n",
       "    </tr>\n",
       "  </tbody>\n",
       "</table>\n",
       "</div>"
      ],
      "text/plain": [
       "             cohesion    syntax  vocabulary  phraseology   grammar  \\\n",
       "cohesion     1.000000  0.695459    0.666151     0.690058  0.638689   \n",
       "syntax       0.695459  1.000000    0.680562     0.725467  0.709525   \n",
       "vocabulary   0.666151  0.680562    1.000000     0.735261  0.654852   \n",
       "phraseology  0.690058  0.725467    0.735261     1.000000  0.719746   \n",
       "grammar      0.638689  0.709525    0.654852     0.719746  1.000000   \n",
       "conventions  0.666151  0.700025    0.664292     0.666842  0.673301   \n",
       "\n",
       "             conventions  \n",
       "cohesion        0.666151  \n",
       "syntax          0.700025  \n",
       "vocabulary      0.664292  \n",
       "phraseology     0.666842  \n",
       "grammar         0.673301  \n",
       "conventions     1.000000  "
      ]
     },
     "execution_count": 36,
     "metadata": {},
     "output_type": "execute_result"
    }
   ],
   "source": [
    "DIR = \"C:\\\\Users\\\\mehta\\\\Desktop\\\\kaggle\\\\feedback_phr_se\\\\\"\n",
    "pd.read_csv(DIR + \"train.csv\").corr()"
   ]
  },
  {
   "cell_type": "code",
   "execution_count": 42,
   "metadata": {},
   "outputs": [
    {
     "data": {
      "text/plain": [
       "3.0    1096\n",
       "3.5     988\n",
       "2.5     790\n",
       "4.0     534\n",
       "2.0     315\n",
       "4.5     125\n",
       "1.5      27\n",
       "5.0      26\n",
       "1.0      10\n",
       "Name: cohesion, dtype: int64"
      ]
     },
     "execution_count": 42,
     "metadata": {},
     "output_type": "execute_result"
    }
   ],
   "source": [
    "pd.read_csv(DIR + \"train.csv\")['cohesion'].value_counts()"
   ]
  },
  {
   "cell_type": "code",
   "execution_count": 37,
   "metadata": {},
   "outputs": [
    {
     "data": {
      "text/plain": [
       "0.63868867859937"
      ]
     },
     "execution_count": 37,
     "metadata": {},
     "output_type": "execute_result"
    }
   ],
   "source": [
    "np.min(pd.read_csv(DIR + \"train.csv\").corr().values)"
   ]
  },
  {
   "cell_type": "code",
   "execution_count": 41,
   "metadata": {},
   "outputs": [
    {
     "data": {
      "text/html": [
       "<div>\n",
       "<style scoped>\n",
       "    .dataframe tbody tr th:only-of-type {\n",
       "        vertical-align: middle;\n",
       "    }\n",
       "\n",
       "    .dataframe tbody tr th {\n",
       "        vertical-align: top;\n",
       "    }\n",
       "\n",
       "    .dataframe thead th {\n",
       "        text-align: right;\n",
       "    }\n",
       "</style>\n",
       "<table border=\"1\" class=\"dataframe\">\n",
       "  <thead>\n",
       "    <tr style=\"text-align: right;\">\n",
       "      <th></th>\n",
       "      <th>cohesion</th>\n",
       "      <th>syntax</th>\n",
       "      <th>vocabulary</th>\n",
       "      <th>phraseology</th>\n",
       "      <th>grammar</th>\n",
       "      <th>conventions</th>\n",
       "    </tr>\n",
       "  </thead>\n",
       "  <tbody>\n",
       "    <tr>\n",
       "      <th>cohesion</th>\n",
       "      <td>1.000000</td>\n",
       "      <td>0.858373</td>\n",
       "      <td>0.845243</td>\n",
       "      <td>0.820555</td>\n",
       "      <td>0.739227</td>\n",
       "      <td>0.831233</td>\n",
       "    </tr>\n",
       "    <tr>\n",
       "      <th>syntax</th>\n",
       "      <td>0.858373</td>\n",
       "      <td>1.000000</td>\n",
       "      <td>0.842590</td>\n",
       "      <td>0.851037</td>\n",
       "      <td>0.828140</td>\n",
       "      <td>0.877865</td>\n",
       "    </tr>\n",
       "    <tr>\n",
       "      <th>vocabulary</th>\n",
       "      <td>0.845243</td>\n",
       "      <td>0.842590</td>\n",
       "      <td>1.000000</td>\n",
       "      <td>0.877129</td>\n",
       "      <td>0.772476</td>\n",
       "      <td>0.794026</td>\n",
       "    </tr>\n",
       "    <tr>\n",
       "      <th>phraseology</th>\n",
       "      <td>0.820555</td>\n",
       "      <td>0.851037</td>\n",
       "      <td>0.877129</td>\n",
       "      <td>1.000000</td>\n",
       "      <td>0.842795</td>\n",
       "      <td>0.790950</td>\n",
       "    </tr>\n",
       "    <tr>\n",
       "      <th>grammar</th>\n",
       "      <td>0.739227</td>\n",
       "      <td>0.828140</td>\n",
       "      <td>0.772476</td>\n",
       "      <td>0.842795</td>\n",
       "      <td>1.000000</td>\n",
       "      <td>0.794623</td>\n",
       "    </tr>\n",
       "    <tr>\n",
       "      <th>conventions</th>\n",
       "      <td>0.831233</td>\n",
       "      <td>0.877865</td>\n",
       "      <td>0.794026</td>\n",
       "      <td>0.790950</td>\n",
       "      <td>0.794623</td>\n",
       "      <td>1.000000</td>\n",
       "    </tr>\n",
       "  </tbody>\n",
       "</table>\n",
       "</div>"
      ],
      "text/plain": [
       "             cohesion    syntax  vocabulary  phraseology   grammar  \\\n",
       "cohesion     1.000000  0.858373    0.845243     0.820555  0.739227   \n",
       "syntax       0.858373  1.000000    0.842590     0.851037  0.828140   \n",
       "vocabulary   0.845243  0.842590    1.000000     0.877129  0.772476   \n",
       "phraseology  0.820555  0.851037    0.877129     1.000000  0.842795   \n",
       "grammar      0.739227  0.828140    0.772476     0.842795  1.000000   \n",
       "conventions  0.831233  0.877865    0.794026     0.790950  0.794623   \n",
       "\n",
       "             conventions  \n",
       "cohesion        0.831233  \n",
       "syntax          0.877865  \n",
       "vocabulary      0.794026  \n",
       "phraseology     0.790950  \n",
       "grammar         0.794623  \n",
       "conventions     1.000000  "
      ]
     },
     "execution_count": 41,
     "metadata": {},
     "output_type": "execute_result"
    }
   ],
   "source": [
    "DIR1 = \"C:\\\\Users\\\\mehta\\\\Desktop\\\\kaggle\\\\feedback_phr_se\\\\notebooks\\\\weights_tree_based\\\\\"\n",
    "pd.read_csv(DIR1 + \"EXP101_LGBRegressor_4fold_CV.5344.csv\")[columns].corr()"
   ]
  },
  {
   "cell_type": "code",
   "execution_count": null,
   "metadata": {},
   "outputs": [],
   "source": []
  }
 ],
 "metadata": {
  "kernelspec": {
   "display_name": "Python 3",
   "language": "python",
   "name": "python3"
  },
  "language_info": {
   "codemirror_mode": {
    "name": "ipython",
    "version": 3
   },
   "file_extension": ".py",
   "mimetype": "text/x-python",
   "name": "python",
   "nbconvert_exporter": "python",
   "pygments_lexer": "ipython3",
   "version": "3.8.3"
  }
 },
 "nbformat": 4,
 "nbformat_minor": 4
}
